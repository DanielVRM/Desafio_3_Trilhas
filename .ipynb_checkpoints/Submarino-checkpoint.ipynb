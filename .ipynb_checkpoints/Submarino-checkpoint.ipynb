{
 "cells": [
  {
   "cell_type": "code",
   "execution_count": 1,
   "metadata": {},
   "outputs": [
    {
     "name": "stdout",
     "output_type": "stream",
     "text": [
      "Computador completo intel 8GB ram HD 500GB teclado E mouse\n",
      "\n",
      "R$ 1.418,24\n",
      "\n",
      "Computador desktop icc vision IV1846DW intel dual core 2.41GHZ 4GB HD 120GB ssd dvdrw windows 10\n",
      "\n",
      "R$ 1.242,65\n",
      "\n",
      "Computador Desktop Cpu Intel Core I3 4gb Ddr3 Ssd 120gb\n",
      "\n",
      "R$ 1.246,10\n",
      "\n",
      "Computador I3 8gb Ram Hd 500gb Com Teclado E Mouse\n",
      "\n",
      "R$ 1.436,84\n",
      "\n",
      "Computador Desktop Core i3 1ª Geração 4Gb Ram SSD 120Gb Wifi HDMI + Teclado, Mouse e Som\n",
      "\n",
      "R$ 1.459,17\n",
      "\n",
      "Computador Cpu Intel Core I3 4gb SSD 480gb\n",
      "\n",
      "R$ 1.388,64\n",
      "\n",
      "Computador Fácil Slim Intel Core i3 8GB SSD 480GB\n",
      "\n",
      "R$ 1.537,65\n",
      "\n",
      "Computador Flex Computer Intel Core i5 4GB HD 1Tb\n",
      "\n",
      "R$ 1.444,15\n",
      "\n",
      "Computador Icc Processador Amd Fm2 A10 4gb de Ram Ssd 120 Gb Dvdrw\n",
      "\n",
      "R$ 1.327,24\n",
      "\n",
      "Computador Flex Computer Intel Core I3-2100 10GB SSD 120Gb Com Kit e DVDRW\n",
      "\n",
      "R$ 1.499,68\n",
      "\n",
      "Computador Desktop ICC IV1886KW Intel Dual Core 2.41ghz 8GB HD 120GB SSD Kit Multimídia USB 3.0 HDMI FULLHD\n",
      "\n",
      "R$ 1.347,42\n",
      "\n",
      "Computador Completo Pc Cpu Intel Core I3 8GB HD 500GB Windows 10 Pro Hdmi Teclado e Mouse\n",
      "\n",
      "R$ 1.427,99\n",
      "\n",
      "Computador Flex Computer Intel Core I3-2100 8GB HD 1Tb Com Kit e DVDRW\n",
      "\n",
      "R$ 1.524,41\n",
      "\n",
      "Computador Icc Processador Amd Fm2 A8 6gb de Ram Ssd 120 Gb Kit Multimídia\n",
      "\n",
      "R$ 1.369,35\n",
      "\n",
      "Computador Cpu Intel Core I3 8gb SSD 480gb\n",
      "\n",
      "R$ 1.476,64\n",
      "\n",
      "Mesa de Computador Branco Brilho – AJL\n",
      "\n",
      "R$ 148,75\n",
      "\n",
      "Computador Cpu Desktop Pc Star i5 8gb Ram Hd 500gb Windows 10 Pró - Programas Básicos - Gravador de DVD\n",
      "\n",
      "R$ 1.757,70\n",
      "\n",
      "Computador Cpu Intel 3.3Ghz 4GB ssd 120GB Windows 10 Hdmi Teclado Mouse\n",
      "\n",
      "R$ 1.580,07\n",
      "\n",
      "Computador Cpu Desktop i5 4gb Ram Hd 1tb Windows 10 Pró Teclado e Mouse - Programas Básicos\n",
      "\n",
      "R$ 1.757,70\n",
      "\n",
      "Computador Processador Amd Fm2 A10 6gb de Ram Ssd 120 Gb Kit Multimídia Windows 10 Digital Corp\n",
      "\n",
      "R$ 1.517,91\n",
      "\n",
      "Mini Computador Business B100 - Celeron Dual Core J1800 2.41ghz 4gb Ddr3 Sodimm Ssd 120gb Hdmi/vga Fonte 60w Win 10 Pro\n",
      "\n",
      "R$ 1.294,71\n",
      "\n",
      "Computador Flex Computer Intel Core i3 4GB SSD 480Gb\n",
      "\n",
      "R$ 1.573,97\n",
      "\n",
      "Computador Fácil Super Slim Intel 4GB SSD 64GB\n",
      "\n",
      "R$ 993,65\n",
      "\n",
      "Computador Flex Computer Intel Core I3-2100 8GB HD 2Tb Com Kit\n",
      "\n",
      "R$ 1.582,13\n",
      "\n",
      "Computador Completo I5 8gb HD 1 TB monitor 18,5 LED + Kit multimídia\n",
      "\n",
      "R$ 2.083,84\n",
      "\n"
     ]
    }
   ],
   "source": [
    "from selenium import webdriver\n",
    "from selenium.webdriver.common.keys import Keys\n",
    "from bs4 import BeautifulSoup as bs\n",
    "import time\n",
    "\n",
    "'''\n",
    "2 - MAGALU\n",
    "3 - SUBMARINO - BACKLOG\n",
    "4 - AMERICANAS - DOING\n",
    "5 - CASAS BAHIA\n",
    "'''\n",
    "\n",
    "def retorna_soup(html):\n",
    "\treturn bs(html, 'lxml')\n",
    "\n",
    "driver = webdriver.Chrome()\n",
    "produtos_txt = open('produtos.txt', 'w')\n",
    "precos_txt = open('precos.txt', 'w')\n",
    "\n",
    "lista_produtos = list()\n",
    "lista_precos = list()\n",
    "\n",
    "for i in range(80):\n",
    "\n",
    "    driver.get(f'https://submarino.com.br/busca/computadores?limit=24&offset={24*(i+24)}')\n",
    "    time.sleep(3)\n",
    "\n",
    "    html = driver.page_source\n",
    "    soup = retorna_soup(html)\n",
    "\n",
    "    produtos = soup.find_all('h3', class_='src__Name-r60f4z-1 dBpyfL')\n",
    "    produtos = [x.text + '\\n' for x in produtos]\n",
    "\n",
    "    precos = soup.find_all('span', class_='src__PromotionalPrice-r60f4z-6')\n",
    "    precos = [x.text + '\\n' for x in precos]\n",
    "\n",
    "    lista_produtos.extend(produtos)\n",
    "    lista_precos.extend(precos)\n",
    "\n",
    "    try:\n",
    "        print(produtos[0])\n",
    "        print(precos[0])\n",
    "    except:\n",
    "        break\n",
    "\n",
    "produtos_txt.writelines(lista_produtos)\n",
    "precos_txt.writelines(lista_precos)\n"
   ]
  },
  {
   "cell_type": "code",
   "execution_count": 16,
   "metadata": {},
   "outputs": [],
   "source": [
    "precos_txt.writelines(lista_precos)"
   ]
  },
  {
   "cell_type": "code",
   "execution_count": 21,
   "metadata": {},
   "outputs": [],
   "source": [
    "submarino = pd.DataFrame()"
   ]
  },
  {
   "cell_type": "code",
   "execution_count": 22,
   "metadata": {},
   "outputs": [
    {
     "data": {
      "text/html": [
       "<div>\n",
       "<style scoped>\n",
       "    .dataframe tbody tr th:only-of-type {\n",
       "        vertical-align: middle;\n",
       "    }\n",
       "\n",
       "    .dataframe tbody tr th {\n",
       "        vertical-align: top;\n",
       "    }\n",
       "\n",
       "    .dataframe thead th {\n",
       "        text-align: right;\n",
       "    }\n",
       "</style>\n",
       "<table border=\"1\" class=\"dataframe\">\n",
       "  <thead>\n",
       "    <tr style=\"text-align: right;\">\n",
       "      <th></th>\n",
       "    </tr>\n",
       "  </thead>\n",
       "  <tbody>\n",
       "  </tbody>\n",
       "</table>\n",
       "</div>"
      ],
      "text/plain": [
       "Empty DataFrame\n",
       "Columns: []\n",
       "Index: []"
      ]
     },
     "execution_count": 22,
     "metadata": {},
     "output_type": "execute_result"
    }
   ],
   "source": [
    "submarino"
   ]
  },
  {
   "cell_type": "code",
   "execution_count": 23,
   "metadata": {},
   "outputs": [],
   "source": [
    "submarino['produtos'] = lista_produtos"
   ]
  },
  {
   "cell_type": "code",
   "execution_count": 24,
   "metadata": {},
   "outputs": [],
   "source": [
    "submarino['precos'] = lista_precos"
   ]
  },
  {
   "cell_type": "code",
   "execution_count": 25,
   "metadata": {},
   "outputs": [
    {
     "data": {
      "text/html": [
       "<div>\n",
       "<style scoped>\n",
       "    .dataframe tbody tr th:only-of-type {\n",
       "        vertical-align: middle;\n",
       "    }\n",
       "\n",
       "    .dataframe tbody tr th {\n",
       "        vertical-align: top;\n",
       "    }\n",
       "\n",
       "    .dataframe thead th {\n",
       "        text-align: right;\n",
       "    }\n",
       "</style>\n",
       "<table border=\"1\" class=\"dataframe\">\n",
       "  <thead>\n",
       "    <tr style=\"text-align: right;\">\n",
       "      <th></th>\n",
       "      <th>produtos</th>\n",
       "      <th>precos</th>\n",
       "    </tr>\n",
       "  </thead>\n",
       "  <tbody>\n",
       "    <tr>\n",
       "      <th>0</th>\n",
       "      <td>Computador completo intel 8GB ram HD 500GB tec...</td>\n",
       "      <td>R$ 1.418,24\\n</td>\n",
       "    </tr>\n",
       "    <tr>\n",
       "      <th>1</th>\n",
       "      <td>Computador Cpu Intel 2.6GHz 4GB ssd 120GB Hdmi...</td>\n",
       "      <td>R$ 1.208,07\\n</td>\n",
       "    </tr>\n",
       "    <tr>\n",
       "      <th>2</th>\n",
       "      <td>Computador intel 8GB ram HD 500GB c/ teclado E...</td>\n",
       "      <td>R$ 1.418,24\\n</td>\n",
       "    </tr>\n",
       "    <tr>\n",
       "      <th>3</th>\n",
       "      <td>Computador Desktop Core 2 Duo 8400 3.0Ghz 4Gb ...</td>\n",
       "      <td>R$ 1.226,67\\n</td>\n",
       "    </tr>\n",
       "    <tr>\n",
       "      <th>4</th>\n",
       "      <td>Mesa de Computador Prática com Gavetas Branca\\n</td>\n",
       "      <td>R$ 170,10\\n</td>\n",
       "    </tr>\n",
       "    <tr>\n",
       "      <th>...</th>\n",
       "      <td>...</td>\n",
       "      <td>...</td>\n",
       "    </tr>\n",
       "    <tr>\n",
       "      <th>595</th>\n",
       "      <td>Computador Completo Pc Cpu Intel Core I5 4GB H...</td>\n",
       "      <td>R$ 1.453,15\\n</td>\n",
       "    </tr>\n",
       "    <tr>\n",
       "      <th>596</th>\n",
       "      <td>Mesa Para Computador Escrivaninha de Estudos 3...</td>\n",
       "      <td>R$ 237,51\\n</td>\n",
       "    </tr>\n",
       "    <tr>\n",
       "      <th>597</th>\n",
       "      <td>Computador Flex Computer Intel Core I5-2400S 4...</td>\n",
       "      <td>R$ 1.591,20\\n</td>\n",
       "    </tr>\n",
       "    <tr>\n",
       "      <th>598</th>\n",
       "      <td>Computador Flex Computer Intel Core i5 8GB SSD...</td>\n",
       "      <td>R$ 1.591,28\\n</td>\n",
       "    </tr>\n",
       "    <tr>\n",
       "      <th>599</th>\n",
       "      <td>Computador Completo Intel Core i5 Com Hdmi Dvd...</td>\n",
       "      <td>R$ 1.342,15\\n</td>\n",
       "    </tr>\n",
       "  </tbody>\n",
       "</table>\n",
       "<p>600 rows × 2 columns</p>\n",
       "</div>"
      ],
      "text/plain": [
       "                                              produtos         precos\n",
       "0    Computador completo intel 8GB ram HD 500GB tec...  R$ 1.418,24\\n\n",
       "1    Computador Cpu Intel 2.6GHz 4GB ssd 120GB Hdmi...  R$ 1.208,07\\n\n",
       "2    Computador intel 8GB ram HD 500GB c/ teclado E...  R$ 1.418,24\\n\n",
       "3    Computador Desktop Core 2 Duo 8400 3.0Ghz 4Gb ...  R$ 1.226,67\\n\n",
       "4      Mesa de Computador Prática com Gavetas Branca\\n    R$ 170,10\\n\n",
       "..                                                 ...            ...\n",
       "595  Computador Completo Pc Cpu Intel Core I5 4GB H...  R$ 1.453,15\\n\n",
       "596  Mesa Para Computador Escrivaninha de Estudos 3...    R$ 237,51\\n\n",
       "597  Computador Flex Computer Intel Core I5-2400S 4...  R$ 1.591,20\\n\n",
       "598  Computador Flex Computer Intel Core i5 8GB SSD...  R$ 1.591,28\\n\n",
       "599  Computador Completo Intel Core i5 Com Hdmi Dvd...  R$ 1.342,15\\n\n",
       "\n",
       "[600 rows x 2 columns]"
      ]
     },
     "execution_count": 25,
     "metadata": {},
     "output_type": "execute_result"
    }
   ],
   "source": [
    "submarino"
   ]
  },
  {
   "cell_type": "code",
   "execution_count": 27,
   "metadata": {},
   "outputs": [],
   "source": [
    "submarino.to_csv('submarino.csv', sep = ';', index = False)"
   ]
  },
  {
   "cell_type": "code",
   "execution_count": 29,
   "metadata": {},
   "outputs": [
    {
     "data": {
      "text/html": [
       "<div>\n",
       "<style scoped>\n",
       "    .dataframe tbody tr th:only-of-type {\n",
       "        vertical-align: middle;\n",
       "    }\n",
       "\n",
       "    .dataframe tbody tr th {\n",
       "        vertical-align: top;\n",
       "    }\n",
       "\n",
       "    .dataframe thead th {\n",
       "        text-align: right;\n",
       "    }\n",
       "</style>\n",
       "<table border=\"1\" class=\"dataframe\">\n",
       "  <thead>\n",
       "    <tr style=\"text-align: right;\">\n",
       "      <th></th>\n",
       "      <th>ID</th>\n",
       "      <th>Produto</th>\n",
       "      <th>Preco</th>\n",
       "    </tr>\n",
       "  </thead>\n",
       "  <tbody>\n",
       "    <tr>\n",
       "      <th>0</th>\n",
       "      <td>689</td>\n",
       "      <td>Computador Flex Computer Intel Core I3-2100 12...</td>\n",
       "      <td>1836.90</td>\n",
       "    </tr>\n",
       "    <tr>\n",
       "      <th>1</th>\n",
       "      <td>443</td>\n",
       "      <td>Computador Intel Core i5 Megatron 4Gb Hd 500gb...</td>\n",
       "      <td>1399.99</td>\n",
       "    </tr>\n",
       "    <tr>\n",
       "      <th>2</th>\n",
       "      <td>724</td>\n",
       "      <td>Computador Flex Computer Intel Core i5 4GB HD ...</td>\n",
       "      <td>1905.41</td>\n",
       "    </tr>\n",
       "    <tr>\n",
       "      <th>3</th>\n",
       "      <td>1080</td>\n",
       "      <td>Computador Completo Flex Computer Dynamic Inte...</td>\n",
       "      <td>1822.14</td>\n",
       "    </tr>\n",
       "    <tr>\n",
       "      <th>4</th>\n",
       "      <td>181</td>\n",
       "      <td>Computador Flex Computer Intel Core i5 8GB HD ...</td>\n",
       "      <td>1719.90</td>\n",
       "    </tr>\n",
       "  </tbody>\n",
       "</table>\n",
       "</div>"
      ],
      "text/plain": [
       "     ID                                            Produto    Preco\n",
       "0   689  Computador Flex Computer Intel Core I3-2100 12...  1836.90\n",
       "1   443  Computador Intel Core i5 Megatron 4Gb Hd 500gb...  1399.99\n",
       "2   724  Computador Flex Computer Intel Core i5 4GB HD ...  1905.41\n",
       "3  1080  Computador Completo Flex Computer Dynamic Inte...  1822.14\n",
       "4   181  Computador Flex Computer Intel Core i5 8GB HD ...  1719.90"
      ]
     },
     "execution_count": 29,
     "metadata": {},
     "output_type": "execute_result"
    }
   ],
   "source": [
    "americanas = pd.read_csv('americanas.csv', sep = ',')\n",
    "americanas.head()"
   ]
  },
  {
   "cell_type": "code",
   "execution_count": 43,
   "metadata": {},
   "outputs": [
    {
     "data": {
      "text/plain": [
       "produtos    object\n",
       "precos      object\n",
       "dtype: object"
      ]
     },
     "execution_count": 43,
     "metadata": {},
     "output_type": "execute_result"
    }
   ],
   "source": [
    "# submarino = submarino.drop(submarino['preco'] < 1200)\n",
    "\n",
    "submarino.dtypes"
   ]
  },
  {
   "cell_type": "code",
   "execution_count": 35,
   "metadata": {},
   "outputs": [],
   "source": [
    "lista_A = americanas['Produto'].tolist()\n",
    "# lista_S = submarino['produtos'].tolist()"
   ]
  },
  {
   "cell_type": "code",
   "execution_count": 41,
   "metadata": {},
   "outputs": [],
   "source": [
    "# X = set(lista_A).intersection(set(lista_S))\n",
    "# print(len(X))"
   ]
  }
 ],
 "metadata": {
  "kernelspec": {
   "display_name": "Python 3",
   "language": "python",
   "name": "python3"
  },
  "language_info": {
   "codemirror_mode": {
    "name": "ipython",
    "version": 3
   },
   "file_extension": ".py",
   "mimetype": "text/x-python",
   "name": "python",
   "nbconvert_exporter": "python",
   "pygments_lexer": "ipython3",
   "version": "3.8.3"
  }
 },
 "nbformat": 4,
 "nbformat_minor": 4
}
